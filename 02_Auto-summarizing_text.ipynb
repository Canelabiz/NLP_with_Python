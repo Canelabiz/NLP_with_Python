{
 "cells": [
  {
   "cell_type": "code",
   "execution_count": 1,
   "metadata": {},
   "outputs": [],
   "source": [
    "# Auto-summarize text using a rule based model\n",
    "# Scrape websites for text data using BeautifulSoup\n",
    "# Use NLTK for munging text-tpkenazation, stopword removal, etc\n",
    "\n",
    "# Abstract Extraction\n",
    "# Find the most important words\n",
    "# Compute a significance score for senences based on words they contain\n",
    "# Pick the top most significant sentences"
   ]
  },
  {
   "cell_type": "code",
   "execution_count": 2,
   "metadata": {},
   "outputs": [],
   "source": [
    "# Word Importance\n",
    "# Authors tend to repeat the words that are important tothe theme of the text\n",
    "# Word Importance = Word Frequency"
   ]
  },
  {
   "cell_type": "code",
   "execution_count": 3,
   "metadata": {},
   "outputs": [],
   "source": [
    "# Sentence Significance\n",
    "# Sentences which encapsulate more of the important words are more significant\n",
    "# Significance Score = Sum(Word Importance)"
   ]
  },
  {
   "cell_type": "code",
   "execution_count": 5,
   "metadata": {},
   "outputs": [],
   "source": [
    "# Program Steps:\n",
    "# 1. Retrieve Text, Download and parse the text from a webpage\n",
    "# 2. Preprocess Text, Tokenize text inteo sentences and words and remove stopwords\n",
    "# 3. Extract Sentences, Rank words and sentences"
   ]
  },
  {
   "cell_type": "code",
   "execution_count": null,
   "metadata": {},
   "outputs": [],
   "source": [
    "# Downloading an Article"
   ]
  },
  {
   "cell_type": "code",
   "execution_count": 2,
   "metadata": {},
   "outputs": [],
   "source": [
    "import requests\n",
    "from bs4 import BeautifulSoup as BS"
   ]
  },
  {
   "cell_type": "code",
   "execution_count": 3,
   "metadata": {},
   "outputs": [],
   "source": [
    "articleURL = \"https://www.washingtonpost.com/nation/2020/05/18/trump-rick-bright-coronavirus-60-minutes/\""
   ]
  },
  {
   "cell_type": "code",
   "execution_count": 25,
   "metadata": {},
   "outputs": [],
   "source": [
    "page = requests.get(articleURL)\n",
    "soup = BS(page.text, \"html.parser\")\n",
    "# soup"
   ]
  },
  {
   "cell_type": "code",
   "execution_count": 26,
   "metadata": {},
   "outputs": [],
   "source": [
    "# soup.find('article')"
   ]
  },
  {
   "cell_type": "code",
   "execution_count": 27,
   "metadata": {},
   "outputs": [],
   "source": [
    "# soup.find('article').text"
   ]
  },
  {
   "cell_type": "code",
   "execution_count": 28,
   "metadata": {},
   "outputs": [],
   "source": [
    "text = ' '.join(map(lambda p: p.text, soup.find_all('article')))\n",
    "# text"
   ]
  },
  {
   "cell_type": "code",
   "execution_count": 32,
   "metadata": {},
   "outputs": [
    {
     "data": {
      "text/plain": [
       "b\"President Trump walks across the South Lawn of the White House on Sunday after returning to Washington from the Camp David presidential retreat. (Mandel Ngan/AFP/Getty Images)By Timothy Bella closeTimothy BellaDeputy editor for Morning MixEmailEmailBioBioFollowFollowMay 18, 2020 at 6:04 AM EDTAfter former top vaccine official Rick Bright maintained Sunday that the federal government s response to the coronavirus pandemic has been slow and chaotic, President Trump responded in a late-night tweetstorm, saying that whistleblowers like Bright are  causing great injustice and harm  to the nation.In an interview with  60 Minutes,  Bright, the former director of the Biomedical Advanced Research and Development Authority, criticized the government for failing to have a clear plan in place to address the totality of the American outbreak. He reiterated claims that he was reassigned to a less respected role within the Department of Health and Human Services last month after raising concerns regarding the drug hydroxychloroquine, pushed by Trump as a possible cure for the novel coronavirus, and trying to  prioritize science and safety over political expediency. Ousted vaccine official alleges he was demoted for prioritizing  science and safety  We don t yet have a national strategy to respond fully to this pandemic,  Bright said Sunday.  The best scientists that we have in our government who are working really hard to try to figure this out aren t getting that clear, cohesive leadership, strategic plan message yet. Until they get that, it s still going to be chaotic. ADAD We don't yet have a national strategy to respond fully to this pandemic,  says government scientist Rick Bright, who filed a whistleblower complaint charging the government s response to coronavirus has been slow and chaotic. https://t.co/U1L3I1AiXS pic.twitter.com/AdEI5ZUQwp  60 Minutes (@60Minutes) May 17, 2020\\n\\nShortly after the program aired, Trump took to Twitter to again describe the concerns of Bright, who led BARDA for four years, as complaints from a  disgruntled employee,  and he reiterated his long-standing call to undo protections for whistleblowers. This whole Whistleblower racket needs to be looked at very closely, it is causing great injustice & harm,  the president tweeted. Trump, who has long disdained whistleblowers and has sought to intimidate them, then tagged Sen. Susan Collins (R-Maine), who has co-authored whistleblower legislation.  I hope you are listening,  Trump tweeted to Collins.....This whole Whistleblower racket needs to be looked at very closely, it is causing great injustice & harm. I hope you are listening @SenSusanCollins  I also hope that Shari Redstone will take a look at her poorly performing gang. She knows how to make things right!  Donald J. Trump (@realDonaldTrump) May 18, 2020\\n\\nThe interview, the first since Bright testified before Congress last week about the government s response to the coronavirus, comes as more states reopen during a pandemic that now has nearly 1.5 million confirmed cases in the United States and has caused at least 88,000 deaths.ADADSign up for our Coronavirus Updates newsletter to track the outbreak. All stories linked in the newsletter are free to access.Bright said he never believed that hydroxychloroquine, an anti-malarial drug, could be, as Trump framed it in March,  a real chance to be one of the biggest game changers in the history of medicine.  And the limited data available told us that it could be dangerous. It could have negative side effects,  he told  60 Minutes.   And it could even lead to death. As Bright outlined in his 89-page whistleblower complaint, he received a directive from the White House to  drop everything  to make the drug  widely available to the American public.  He described the directive as political pressure to force  dozens of federal scientists  to rush to put together a protocol for approving hydroxychloroquine for covid-19 patients.ADHe became impatient with government officials who  refused to listen,  and he shared his concerns with a reporter about  drugs which he believed constituted a substantial and specific danger to public health and safety,  according to the complaint.ADRead Rick Bright's whistleblower complaintBright said to CBS News that he believes his reassignment to what he considered a lesser role at the National Institutes of Health is retaliation for speaking out. I believe my last-ditch effort to protect Americans from that drug was the final straw that they used and believed was essential to push me out,  Bright said.There s now growing evidence suggesting that hydroxychloroquine is more deadly than helpful in treating covid-19. As The Washington Post reported on Friday, a series of clinical trials, academic research and scientific analysis on hydroxychloroquine indicate a significantly increased risk of death for certain patients. In fact, evidence supporting the drug s effectiveness in treating the virus has been minimal. The developments caused the Food and Drug Administration last month to warn against using hydroxychloroquine outside a hospital setting, a warning that came weeks after the drug was approved for an emergency use authorization.ADADDrug promoted by Trump as coronavirus  game changer  increasingly linked to deathsOn Sunday, Bright outlined again, much like he did in his whistleblower complaint, how Health and Human Services Secretary Alex Azar, the boss of his department, allegedly downplayed the threat as early as January. Why would he do that   asked correspondent Norah O Donnell, referring to Azar. You know, I don t know why he would do that,  Bright responded.The Department of Health and Human Services has publicly rebutted Bright s claims, saying his complaint was  filled with one-sided arguments and misinformation,  according to  60 Minutes.  The president also questioned Bright s critique of Azar. How can a creep like this show up to work tomorrow & report to @SecAzar, his boss, after trashing him on T.V.   Trump tweeted, tagging Azar. ADBright responded to Trump s earlier criticisms of him on  60 Minutes,  saying he was not a disgruntled employee but instead was  frustrated at a lack of leadership. AD I am frustrated at a lack of urgency to get a head start on developing lifesaving tools for Americans. I m frustrated at our inability to be heard as scientists,  he said.  Those things frustrate me. Coronavirus: What you need to readThe Washington Post is providing some coronavirus coverage free, including:Updated May 17, 2020Live updates: The latest in the U.S.The latest: Will summer weather slow coronavirus spread Coronavirus maps: Cases and deaths in the U.S. | Cases and deaths worldwide | Which states are reopeningWhat you need to know: Your life at home | Personal finance guide | Make your own fabric mask | Follow all of our coronavirus coverage and sign up for our daily newsletter.How to help: Your community | Seniors | Restaurants | Keep at-risk people in mindRemembering the victims: Stories of Americans who have died | A memorial for those lost to covid-19Show MoreShow Less0 CommentsGet our Coronavirus Updates newsletterReceive the most important pandemic developments in your inbox every day. All stories linked in the newsletter are free to access.By signing up you agree to our Terms of Use and Privacy Policy\""
      ]
     },
     "execution_count": 32,
     "metadata": {},
     "output_type": "execute_result"
    }
   ],
   "source": [
    "text.encode('ascii', errors = 'replace').replace(b\"?\",b\" \")"
   ]
  },
  {
   "cell_type": "code",
   "execution_count": 19,
   "metadata": {},
   "outputs": [],
   "source": [
    "def getTextWaPo(url):\n",
    "    page = requests.get(url)\n",
    "    soup = BS(page.text, \"html.parser\")\n",
    "    text = ' '.join(map(lambda p: p.text, soup.find_all('article')))\n",
    "    return text.encode('ascii', errors = 'replace').replace(b\"?\",b\" \")    "
   ]
  },
  {
   "cell_type": "code",
   "execution_count": 20,
   "metadata": {},
   "outputs": [],
   "source": [
    "text = getTextWaPo(articleURL)"
   ]
  },
  {
   "cell_type": "code",
   "execution_count": null,
   "metadata": {},
   "outputs": [],
   "source": [
    "# Preprocessing Article Text"
   ]
  },
  {
   "cell_type": "code",
   "execution_count": 33,
   "metadata": {},
   "outputs": [],
   "source": [
    "from nltk.tokenize import sent_tokenize, word_tokenize\n",
    "from nltk.corpus import stopwords\n",
    "from string import punctuation"
   ]
  },
  {
   "cell_type": "code",
   "execution_count": 46,
   "metadata": {},
   "outputs": [],
   "source": [
    "sents = sent_tokenize(text)\n",
    "# sents"
   ]
  },
  {
   "cell_type": "code",
   "execution_count": 43,
   "metadata": {},
   "outputs": [],
   "source": [
    "word_sent = word_tokenize(text.lower())\n",
    "# word_sent"
   ]
  },
  {
   "cell_type": "code",
   "execution_count": 50,
   "metadata": {},
   "outputs": [],
   "source": [
    "_stopwords = set(stopwords.words('english') + list(punctuation) + ['“', '”', '’'] )\n",
    "# _stopwords"
   ]
  },
  {
   "cell_type": "code",
   "execution_count": 51,
   "metadata": {},
   "outputs": [],
   "source": [
    "word_sent = [word for word in word_sent if word not in _stopwords]\n",
    "# word_sent"
   ]
  },
  {
   "cell_type": "code",
   "execution_count": 39,
   "metadata": {},
   "outputs": [],
   "source": [
    "# Extract a summary"
   ]
  },
  {
   "cell_type": "code",
   "execution_count": 52,
   "metadata": {},
   "outputs": [],
   "source": [
    "from nltk.probability import FreqDist"
   ]
  },
  {
   "cell_type": "code",
   "execution_count": 53,
   "metadata": {},
   "outputs": [
    {
     "data": {
      "text/plain": [
       "FreqDist({'bright': 14, 'coronavirus': 12, 'trump': 11, 'government': 7, 'drug': 7, 'whistleblower': 7, 'hydroxychloroquine': 6, 'pandemic': 5, '60': 5, 'health': 5, ...})"
      ]
     },
     "execution_count": 53,
     "metadata": {},
     "output_type": "execute_result"
    }
   ],
   "source": [
    "freq = FreqDist(word_sent)\n",
    "freq"
   ]
  },
  {
   "cell_type": "code",
   "execution_count": 54,
   "metadata": {},
   "outputs": [],
   "source": [
    "from heapq import nlargest"
   ]
  },
  {
   "cell_type": "code",
   "execution_count": 56,
   "metadata": {},
   "outputs": [
    {
     "data": {
      "text/plain": [
       "['bright',\n",
       " 'coronavirus',\n",
       " 'trump',\n",
       " 'government',\n",
       " 'drug',\n",
       " 'whistleblower',\n",
       " 'hydroxychloroquine',\n",
       " 'pandemic',\n",
       " '60',\n",
       " 'health']"
      ]
     },
     "execution_count": 56,
     "metadata": {},
     "output_type": "execute_result"
    }
   ],
   "source": [
    "nlargest(10, freq, key = freq.get)"
   ]
  },
  {
   "cell_type": "code",
   "execution_count": 58,
   "metadata": {},
   "outputs": [],
   "source": [
    "from collections import defaultdict"
   ]
  },
  {
   "cell_type": "code",
   "execution_count": 61,
   "metadata": {},
   "outputs": [
    {
     "data": {
      "text/plain": [
       "defaultdict(int,\n",
       "            {0: 35,\n",
       "             1: 187,\n",
       "             2: 138,\n",
       "             3: 28,\n",
       "             4: 90,\n",
       "             5: 106,\n",
       "             6: 32,\n",
       "             7: 51,\n",
       "             8: 18,\n",
       "             9: 123,\n",
       "             10: 73,\n",
       "             11: 243,\n",
       "             12: 28,\n",
       "             13: 16,\n",
       "             14: 259,\n",
       "             15: 17,\n",
       "             16: 55,\n",
       "             17: 12,\n",
       "             18: 187,\n",
       "             19: 20})"
      ]
     },
     "execution_count": 61,
     "metadata": {},
     "output_type": "execute_result"
    }
   ],
   "source": [
    "# Keys -> Sentences\n",
    "# Values -> Significance Scores\n",
    "ranking = defaultdict(int)\n",
    "\n",
    "for i, sent in enumerate(sents):\n",
    "    for w in word_tokenize(sent.lower()):\n",
    "        if w in freq:\n",
    "            ranking[i] += freq[w]\n",
    "ranking"
   ]
  },
  {
   "cell_type": "code",
   "execution_count": 63,
   "metadata": {},
   "outputs": [
    {
     "data": {
      "text/plain": [
       "[14, 11, 1, 18]"
      ]
     },
     "execution_count": 63,
     "metadata": {},
     "output_type": "execute_result"
    }
   ],
   "source": [
    "sents_idx = nlargest(4, ranking, key = ranking.get)\n",
    "sents_idx"
   ]
  },
  {
   "cell_type": "code",
   "execution_count": 64,
   "metadata": {},
   "outputs": [
    {
     "data": {
      "text/plain": [
       "['(Mandel Ngan/AFP/Getty Images)By Timothy Bella\\xa0closeTimothy BellaDeputy editor for Morning MixEmailEmailBioBioFollowFollowMay 18, 2020 at 6:04 AM EDTAfter former top vaccine official Rick Bright maintained Sunday that the federal government’s response to the coronavirus pandemic has been slow and chaotic, President Trump responded in a late-night tweetstorm, saying that whistleblowers like Bright are “causing great injustice and harm” to the nation.In an interview with “60 Minutes,” Bright, the former director of the Biomedical Advanced Research and Development Authority, criticized the government for failing to have a clear plan in place to address the totality of the American outbreak.',\n",
       " \"It could have negative side effects,” he told “60 Minutes.” “And it could even lead to death.”As Bright outlined in his 89-page whistleblower complaint, he received a directive from the White House to “drop everything” to make the drug “widely available to the American public.” He described the directive as political pressure to force “dozens of federal scientists” to rush to put together a protocol for approving hydroxychloroquine for covid-19 patients.ADHe became impatient with government officials who “refused to listen,” and he shared his concerns with a reporter about “drugs which he believed constituted a substantial and specific danger to public health and safety,” according to the complaint.ADRead Rick Bright's whistleblower complaintBright said to CBS News that he believes his reassignment to what he considered a lesser role at the National Institutes of Health is retaliation for speaking out.“I believe my last-ditch effort to protect Americans from that drug was the final straw that they used and believed was essential to push me out,” Bright said.There’s now growing evidence suggesting that hydroxychloroquine is more deadly than helpful in treating covid-19.\",\n",
       " 'The developments caused the Food and Drug Administration last month to warn against using hydroxychloroquine outside a hospital setting, a warning that came weeks after the drug was approved for an emergency use authorization.ADADDrug promoted by Trump as coronavirus ‘game changer’ increasingly linked to deathsOn Sunday, Bright outlined again, much like he did in his whistleblower complaint, how Health and Human Services Secretary Alex Azar, the boss of his department, allegedly downplayed the threat as early as January.“Why would he do that?” asked correspondent Norah O’Donnell, referring to Azar.“You know, I don’t know why he would do that,” Bright responded.The Department of Health and Human Services has publicly rebutted Bright’s claims, saying his complaint was “filled with one-sided arguments and misinformation,” according to “60 Minutes.” The president also questioned Bright’s critique of Azar.“How can a creep like this show up to work tomorrow & report to @SecAzar, his boss, after trashing him on T.V.',\n",
       " '“Those things frustrate me.”Coronavirus: What you need to readThe Washington Post is providing some coronavirus coverage free, including:Updated May 17, 2020Live updates: The latest in the U.S.The latest: Will summer weather slow coronavirus spread?Coronavirus maps: Cases and deaths in the U.S. | Cases and deaths worldwide | Which states are reopeningWhat you need to know: Your life at home | Personal finance guide | Make your own fabric mask | Follow all of our coronavirus coverage and sign up for our daily newsletter.How to help: Your community | Seniors | Restaurants | Keep at-risk people in mindRemembering the victims: Stories of Americans who have died | A memorial for those lost to covid-19Show MoreShow Less0 CommentsGet our Coronavirus Updates newsletterReceive the most important pandemic developments in your inbox every day.']"
      ]
     },
     "execution_count": 64,
     "metadata": {},
     "output_type": "execute_result"
    }
   ],
   "source": [
    "[sents[j] for j in sorted(sents_idx)]"
   ]
  },
  {
   "cell_type": "code",
   "execution_count": 65,
   "metadata": {},
   "outputs": [],
   "source": [
    "# more goes here"
   ]
  },
  {
   "cell_type": "code",
   "execution_count": null,
   "metadata": {},
   "outputs": [],
   "source": []
  }
 ],
 "metadata": {
  "kernelspec": {
   "display_name": "Python 3",
   "language": "python",
   "name": "python3"
  },
  "language_info": {
   "codemirror_mode": {
    "name": "ipython",
    "version": 3
   },
   "file_extension": ".py",
   "mimetype": "text/x-python",
   "name": "python",
   "nbconvert_exporter": "python",
   "pygments_lexer": "ipython3",
   "version": "3.8.1"
  }
 },
 "nbformat": 4,
 "nbformat_minor": 4
}
